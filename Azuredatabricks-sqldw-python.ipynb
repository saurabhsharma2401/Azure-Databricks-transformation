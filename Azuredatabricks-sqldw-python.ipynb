{
 "cells": [
  {
   "cell_type": "markdown",
   "metadata": {},
   "source": [
    "# Data Transformation"
   ]
  },
  {
   "cell_type": "code",
   "execution_count": 16,
   "metadata": {},
   "outputs": [],
   "source": [
    "specificColumnsDf = df.select(\"firstname\", \"lastname\", \"gender\", \"location\", \"level\")\n",
    "specificColumnsDf.show()"
   ]
  },
  {
   "cell_type": "markdown",
   "metadata": {},
   "source": [
    "# Further transforming to rename the column level to subscription_type."
   ]
  },
  {
   "cell_type": "code",
   "execution_count": 18,
   "metadata": {},
   "outputs": [],
   "source": [
    "renamedColumnsDF = specificColumnsDf.withColumnRenamed(\"level\", \"subscription_type\")\n",
    "renamedColumnsDF.show()"
   ]
  },
  {
   "cell_type": "markdown",
   "metadata": {},
   "source": [
    "# Loading into Azure SQL Data Warehouse"
   ]
  },
  {
   "cell_type": "code",
   "execution_count": 20,
   "metadata": {},
   "outputs": [],
   "source": [
    "\n",
    "dwTable= \"mytable001\"\n",
    "dwDatabase = \"sqldwprod\"\n",
    "dwServer = \"fastf1prod\" \n",
    "dwUser = \"facilities\"\n",
    "dwPass = \"P@ssw0rd____\"\n",
    "dwJdbcPort =  \"1433\"\n",
    "dwJdbcExtraOptions = \"encrypt=true;trustServerCertificate=true;hostNameInCertificate=*.database.windows.net;loginTimeout=30;\"\n",
    "sqlDwUrl = \"jdbc:sqlserver://\" + dwServer + \".database.windows.net:\" + dwJdbcPort + \";database=\" + dwDatabase + \";user=\" + dwUser+\";password=\" + dwPass + \";$dwJdbcExtraOptions\"\n",
    "sqlDwUrlSmall = \"jdbc:sqlserver://\" + dwServer + \".database.windows.net:\" + dwJdbcPort + \";database=\" + dwDatabase + \";user=\" + dwUser+\";password=\" + dwPass\n",
    "\n",
    "\n",
    "tempDir = \"wasbs://dbdemo01tmp@databrickstore.blob.core.windows.net/tempDirs\"\n",
    "\n",
    "#sc._jsc.hadoopConfiguration().set(\n",
    "#  \"fs.azure.account.key.<your-storage-account-name>.blob.core.windows.net\",\n",
    "#  \"<your-storage-account-access-key>\")\n",
    "acntInfo = \"fs.azure.account.key.databrickstore.blob.core.windows.net\"\n",
    "sc._jsc.hadoopConfiguration().set(\n",
    "  acntInfo, \n",
    "  \"S1PtMWvUw5If1Z8FMzXAxC7OMw9G5Go8BGCXJ81qpFVYpZ9dpXOnU4zlg0PbldKkbLIbmbv02WoJsgYLGKIfgg==\")\n",
    "\n",
    "## Loading transformed dataframe (renamedColumnsDF) into SQLDW\n",
    "spark.conf.set(\"spark.sql.parquet.writeLegacyFormat\",\"true\")\n",
    "\n",
    "## This snippet creates a table called 'dwTable' in the SQL database.\n",
    "#df.write \\\n",
    "#  .format(\"com.databricks.spark.sqldw\") \\\n",
    "#  .option(\"url\", \"jdbc:sqlserver://<the-rest-of-the-connection-string>\") \\\n",
    "#  .option(\"forward_spark_azure_storage_credentials\", \"true\") \\\n",
    "#  .option(\"dbtable\", \"my_table_in_dw_copy\") \\\n",
    "#  .option(\"tempdir\", \"wasbs://<your-container-name>@<your-storage-account-name>.blob.core.windows.net/<your-directory-name>\") \\\n",
    "#  .save()\n",
    "\n",
    "renamedColumnsDF.write \\\n",
    "  .format(\"com.databricks.spark.sqldw\") \\\n",
    "  .option(\"url\", sqlDwUrlSmall) \\\n",
    "  .option(\"dbtable\", dwTable) \\\n",
    "  .option( \"forward_spark_azure_storage_credentials\",\"true\") \\\n",
    "  .option(\"tempdir\", tempDir) \\\n",
    "  .mode(\"overwrite\") \\\n",
    "  .save()"
   ]
  }
 ],
 "metadata": {
  "kernelspec": {
   "display_name": "Python 3 (ipykernel)",
   "language": "python",
   "name": "python3"
  },
  "language_info": {
   "codemirror_mode": {
    "name": "ipython",
    "version": 3
   },
   "file_extension": ".py",
   "mimetype": "text/x-python",
   "name": "python",
   "nbconvert_exporter": "python",
   "pygments_lexer": "ipython3",
   "version": "3.12.3"
  },
  "name": "elt-blob-storage-sqldw-python",
  "notebookId": 3679592423530605
 },
 "nbformat": 4,
 "nbformat_minor": 4
}
